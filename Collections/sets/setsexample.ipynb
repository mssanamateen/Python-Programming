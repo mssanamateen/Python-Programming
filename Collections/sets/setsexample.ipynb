{
 "cells": [
  {
   "cell_type": "code",
   "execution_count": 1,
   "id": "f9a8c2b4-f8d2-4ccd-a73b-f49b309b6598",
   "metadata": {},
   "outputs": [],
   "source": [
    "Best_students={\"Uzair\",\"Sameer\",\"Robin\",\"Thejas\",\"Ganesh\",\"Mohan\"}"
   ]
  },
  {
   "cell_type": "code",
   "execution_count": 2,
   "id": "9e32b8b6-65f1-495a-91f9-0d4b628f41ae",
   "metadata": {},
   "outputs": [
    {
     "data": {
      "text/plain": [
       "set"
      ]
     },
     "execution_count": 2,
     "metadata": {},
     "output_type": "execute_result"
    }
   ],
   "source": [
    "type(Best_students)"
   ]
  },
  {
   "cell_type": "code",
   "execution_count": 3,
   "id": "9155d569-371b-4fa2-9882-c98ab0a870ad",
   "metadata": {},
   "outputs": [],
   "source": [
    "Best_students.add(\"Faizan\")"
   ]
  },
  {
   "cell_type": "code",
   "execution_count": 4,
   "id": "90edb6ed-e05b-4c77-b49c-cc4961cabda0",
   "metadata": {},
   "outputs": [
    {
     "data": {
      "text/plain": [
       "{'Faizan', 'Ganesh', 'Mohan', 'Robin', 'Sameer', 'Thejas', 'Uzair'}"
      ]
     },
     "execution_count": 4,
     "metadata": {},
     "output_type": "execute_result"
    }
   ],
   "source": [
    "Best_students"
   ]
  },
  {
   "cell_type": "code",
   "execution_count": 5,
   "id": "e3efb78e-6841-4f77-b02f-03354bd424b2",
   "metadata": {},
   "outputs": [
    {
     "data": {
      "text/plain": [
       "{'Faizan', 'Ganesh', 'Mohan', 'Robin', 'Sameer', 'Thejas', 'Uzair'}"
      ]
     },
     "execution_count": 5,
     "metadata": {},
     "output_type": "execute_result"
    }
   ],
   "source": [
    "#duplicates not allowed\n",
    "Best_students.add(\"Faizan\")\n",
    "Best_students"
   ]
  },
  {
   "cell_type": "code",
   "execution_count": 6,
   "id": "85c27785-2a52-4f7b-a5a0-77afd480951c",
   "metadata": {},
   "outputs": [
    {
     "data": {
      "text/plain": [
       "{'apple', 'berry', 'mango'}"
      ]
     },
     "execution_count": 6,
     "metadata": {},
     "output_type": "execute_result"
    }
   ],
   "source": [
    "fruits={\"apple\",\"mango\",\"berry\",\"apple\"}\n",
    "fruits"
   ]
  },
  {
   "cell_type": "code",
   "execution_count": 7,
   "id": "04a15522-9b93-476b-9093-b7b9f9ffec33",
   "metadata": {},
   "outputs": [],
   "source": [
    "#add items\n",
    "fruits.add('raspberry')"
   ]
  },
  {
   "cell_type": "code",
   "execution_count": 8,
   "id": "d9d952b9-9af7-4fe6-8f56-8133da8081db",
   "metadata": {},
   "outputs": [
    {
     "data": {
      "text/plain": [
       "{'apple', 'berry', 'mango', 'raspberry'}"
      ]
     },
     "execution_count": 8,
     "metadata": {},
     "output_type": "execute_result"
    }
   ],
   "source": [
    "fruits"
   ]
  },
  {
   "cell_type": "code",
   "execution_count": 9,
   "id": "718e3486-b44b-4d9b-b307-a9ccd3c1b451",
   "metadata": {},
   "outputs": [],
   "source": [
    "#remove a specified element from the set\n",
    "#if element is not present it raises a KeyError\n",
    "fruits.remove(\"apple\")"
   ]
  },
  {
   "cell_type": "code",
   "execution_count": 10,
   "id": "1e097c12-ea95-4de6-9739-5dbe6bb4c55e",
   "metadata": {},
   "outputs": [
    {
     "data": {
      "text/plain": [
       "{'berry', 'mango', 'raspberry'}"
      ]
     },
     "execution_count": 10,
     "metadata": {},
     "output_type": "execute_result"
    }
   ],
   "source": [
    "fruits"
   ]
  },
  {
   "cell_type": "code",
   "execution_count": 11,
   "id": "4560e16b-a218-4b2f-b741-10026920ddd8",
   "metadata": {},
   "outputs": [
    {
     "ename": "KeyError",
     "evalue": "'cherry'",
     "output_type": "error",
     "traceback": [
      "\u001b[1;31m---------------------------------------------------------------------------\u001b[0m",
      "\u001b[1;31mKeyError\u001b[0m                                  Traceback (most recent call last)",
      "Cell \u001b[1;32mIn[11], line 1\u001b[0m\n\u001b[1;32m----> 1\u001b[0m fruits\u001b[38;5;241m.\u001b[39mremove(\u001b[38;5;124m\"\u001b[39m\u001b[38;5;124mcherry\u001b[39m\u001b[38;5;124m\"\u001b[39m)\n",
      "\u001b[1;31mKeyError\u001b[0m: 'cherry'"
     ]
    }
   ],
   "source": [
    "fruits.remove(\"cherry\")"
   ]
  },
  {
   "cell_type": "code",
   "execution_count": 12,
   "id": "d9ae04f0-a54b-4896-b28a-e14801188100",
   "metadata": {},
   "outputs": [
    {
     "data": {
      "text/plain": [
       "{22, 24, 25, 28}"
      ]
     },
     "execution_count": 12,
     "metadata": {},
     "output_type": "execute_result"
    }
   ],
   "source": [
    "#discard() removes a specified element from the set\n",
    "#if the element is not present, it does not raise an error\n",
    "marks={22,24,25,28}\n",
    "marks"
   ]
  },
  {
   "cell_type": "code",
   "execution_count": 13,
   "id": "7c0a035f-2aa0-4eb2-b71e-f5be2d526c4a",
   "metadata": {},
   "outputs": [],
   "source": [
    "marks.discard(28)"
   ]
  },
  {
   "cell_type": "code",
   "execution_count": 14,
   "id": "0447f01b-b073-48e5-b757-4233c0126796",
   "metadata": {},
   "outputs": [
    {
     "data": {
      "text/plain": [
       "{22, 24, 25}"
      ]
     },
     "execution_count": 14,
     "metadata": {},
     "output_type": "execute_result"
    }
   ],
   "source": [
    "marks"
   ]
  },
  {
   "cell_type": "code",
   "execution_count": 15,
   "id": "6afceed7-6c29-409f-a9ad-d51ffd5b07c9",
   "metadata": {},
   "outputs": [],
   "source": [
    "marks.discard(50)"
   ]
  },
  {
   "cell_type": "code",
   "execution_count": 16,
   "id": "8cc6b34f-eb5c-4c03-a314-bd848176ebef",
   "metadata": {},
   "outputs": [
    {
     "data": {
      "text/plain": [
       "{22, 24, 25}"
      ]
     },
     "execution_count": 16,
     "metadata": {},
     "output_type": "execute_result"
    }
   ],
   "source": [
    "marks"
   ]
  },
  {
   "cell_type": "code",
   "execution_count": 17,
   "id": "a93adb86-d88a-45c0-a4ea-d6842379f82a",
   "metadata": {},
   "outputs": [
    {
     "data": {
      "text/plain": [
       "{'berry', 'mango', 'raspberry'}"
      ]
     },
     "execution_count": 17,
     "metadata": {},
     "output_type": "execute_result"
    }
   ],
   "source": [
    "#pop() removes and returns a random element from the set.\n",
    "#raises a KeyError if the set is empty\n",
    "fruits"
   ]
  },
  {
   "cell_type": "code",
   "execution_count": 18,
   "id": "bfd576f3-5113-4e67-af3b-e7ce0f64ae52",
   "metadata": {},
   "outputs": [
    {
     "data": {
      "text/plain": [
       "'berry'"
      ]
     },
     "execution_count": 18,
     "metadata": {},
     "output_type": "execute_result"
    }
   ],
   "source": [
    "fruits.pop()"
   ]
  },
  {
   "cell_type": "code",
   "execution_count": 19,
   "id": "f1851aa6-2bba-4847-882d-f9b897c02316",
   "metadata": {},
   "outputs": [
    {
     "data": {
      "text/plain": [
       "'raspberry'"
      ]
     },
     "execution_count": 19,
     "metadata": {},
     "output_type": "execute_result"
    }
   ],
   "source": [
    "fruits.pop()"
   ]
  },
  {
   "cell_type": "code",
   "execution_count": 20,
   "id": "ce08c5bc-5c75-40b5-9fd5-6b64ec2146e5",
   "metadata": {},
   "outputs": [
    {
     "data": {
      "text/plain": [
       "'mango'"
      ]
     },
     "execution_count": 20,
     "metadata": {},
     "output_type": "execute_result"
    }
   ],
   "source": [
    "fruits.pop()"
   ]
  },
  {
   "cell_type": "code",
   "execution_count": 21,
   "id": "a37e8ce4-7ed3-4603-9e8b-fb4a3126c21a",
   "metadata": {},
   "outputs": [
    {
     "data": {
      "text/plain": [
       "set()"
      ]
     },
     "execution_count": 21,
     "metadata": {},
     "output_type": "execute_result"
    }
   ],
   "source": [
    "fruits"
   ]
  },
  {
   "cell_type": "code",
   "execution_count": 22,
   "id": "5fe76925-6892-43fc-9325-5ed50d8b735f",
   "metadata": {},
   "outputs": [
    {
     "ename": "KeyError",
     "evalue": "'pop from an empty set'",
     "output_type": "error",
     "traceback": [
      "\u001b[1;31m---------------------------------------------------------------------------\u001b[0m",
      "\u001b[1;31mKeyError\u001b[0m                                  Traceback (most recent call last)",
      "Cell \u001b[1;32mIn[22], line 1\u001b[0m\n\u001b[1;32m----> 1\u001b[0m fruits\u001b[38;5;241m.\u001b[39mpop()\n",
      "\u001b[1;31mKeyError\u001b[0m: 'pop from an empty set'"
     ]
    }
   ],
   "source": [
    "fruits.pop()"
   ]
  },
  {
   "cell_type": "code",
   "execution_count": 23,
   "id": "b55159ad-aa50-4edd-ad7f-debe01711b29",
   "metadata": {},
   "outputs": [
    {
     "data": {
      "text/plain": [
       "{22, 24, 25}"
      ]
     },
     "execution_count": 23,
     "metadata": {},
     "output_type": "execute_result"
    }
   ],
   "source": [
    "#clear() removes all elements from the set leaving it empty\n",
    "marks"
   ]
  },
  {
   "cell_type": "code",
   "execution_count": 24,
   "id": "795894d3-3111-4532-a433-89329633012e",
   "metadata": {},
   "outputs": [],
   "source": [
    "marks.clear()"
   ]
  },
  {
   "cell_type": "code",
   "execution_count": 25,
   "id": "a50693ad-0b4b-4b24-b6c8-0f582468003d",
   "metadata": {},
   "outputs": [
    {
     "data": {
      "text/plain": [
       "set()"
      ]
     },
     "execution_count": 25,
     "metadata": {},
     "output_type": "execute_result"
    }
   ],
   "source": [
    "marks"
   ]
  },
  {
   "cell_type": "code",
   "execution_count": 26,
   "id": "423eb2e5-a5dc-456b-a5ed-fe03d363a353",
   "metadata": {},
   "outputs": [
    {
     "name": "stdout",
     "output_type": "stream",
     "text": [
      "set()\n"
     ]
    }
   ],
   "source": [
    "print(marks)"
   ]
  },
  {
   "cell_type": "code",
   "execution_count": 27,
   "id": "7cbca3c9-5227-4879-955f-d2faa8dc404d",
   "metadata": {},
   "outputs": [
    {
     "name": "stdout",
     "output_type": "stream",
     "text": [
      "robin is decent and smart\n",
      "thejas is decent and sharp\n",
      "zaid is sharp and decent\n"
     ]
    }
   ],
   "source": [
    "#display elements in a set\n",
    "best_stud={\"robin\",\"decent\",\"thejas\",\"sharp\",\"zaid\",\"smart\"}\n",
    "if \"robin\" in best_stud and \"decent\" in best_stud and \"smart\" in best_stud:\n",
    "    print(\"robin is decent and smart\")\n",
    "if \"thejas\" in best_stud and \"decent\" in best_stud and \"sharp\" in best_stud:\n",
    "    print(\"thejas is decent and sharp\")\n",
    "if \"zaid\" in best_stud and \"sharp\" in best_stud and \"decent\" in best_stud:\n",
    "    print(\"zaid is sharp and decent\")"
   ]
  },
  {
   "cell_type": "code",
   "execution_count": 28,
   "id": "8d6b569d-e706-4146-9e3b-de1649e3bda8",
   "metadata": {},
   "outputs": [
    {
     "data": {
      "text/plain": [
       "{'decent', 'robin', 'sharp', 'smart', 'thejas', 'zaid'}"
      ]
     },
     "execution_count": 28,
     "metadata": {},
     "output_type": "execute_result"
    }
   ],
   "source": [
    "#cannot change already present individual elements\n",
    "best_stud"
   ]
  },
  {
   "cell_type": "code",
   "execution_count": 29,
   "id": "e42d47fb-a9fb-41fc-ab6f-fcabdd0bbee3",
   "metadata": {},
   "outputs": [
    {
     "ename": "TypeError",
     "evalue": "'set' object does not support item assignment",
     "output_type": "error",
     "traceback": [
      "\u001b[1;31m---------------------------------------------------------------------------\u001b[0m",
      "\u001b[1;31mTypeError\u001b[0m                                 Traceback (most recent call last)",
      "Cell \u001b[1;32mIn[29], line 1\u001b[0m\n\u001b[1;32m----> 1\u001b[0m best_stud[\u001b[38;5;241m1\u001b[39m]\u001b[38;5;241m=\u001b[39m\u001b[38;5;124m\"\u001b[39m\u001b[38;5;124mThejas\u001b[39m\u001b[38;5;124m\"\u001b[39m\n",
      "\u001b[1;31mTypeError\u001b[0m: 'set' object does not support item assignment"
     ]
    }
   ],
   "source": [
    "best_stud[1]=\"Thejas\""
   ]
  },
  {
   "cell_type": "code",
   "execution_count": 31,
   "id": "ab4f576f-2df4-4de3-8a2c-f94729c665c1",
   "metadata": {},
   "outputs": [],
   "source": [
    "#heterogeneous elements\n",
    "Domain_interest={\"data science\",\"deep learning\",\"machine learning\"}"
   ]
  },
  {
   "cell_type": "code",
   "execution_count": 32,
   "id": "9847cbbf-fa13-46c8-8c95-133c097e4d52",
   "metadata": {},
   "outputs": [
    {
     "name": "stdout",
     "output_type": "stream",
     "text": [
      "Robin is interested in data science, deep learning, machine learning\n"
     ]
    }
   ],
   "source": [
    "Student1={\"Robin\",27,True}\n",
    "Student2={\"Thejas\",124,True}\n",
    "if True in Student1 and \"Robin\" in Student1:\n",
    "    print(f\"Robin is interested in {', '.join(Domain_interest)}\")\n",
    "    "
   ]
  },
  {
   "cell_type": "code",
   "execution_count": 33,
   "id": "aa2ffa58-b410-45aa-9cbc-5c31bb24b83a",
   "metadata": {},
   "outputs": [],
   "source": [
    "#Typecasting with set()\n",
    "#python set is an unordered datatype which means we cannot know in which order the elements of the set are stored"
   ]
  },
  {
   "cell_type": "code",
   "execution_count": 34,
   "id": "71b42838-531d-49e0-981e-a3261d0053e4",
   "metadata": {},
   "outputs": [
    {
     "name": "stdout",
     "output_type": "stream",
     "text": [
      "{'cherry', 'kiwi', 'orange'}\n"
     ]
    }
   ],
   "source": [
    "fav_fruit=set([\"orange\",\"kiwi\",\"cherry\"])\n",
    "print(fav_fruit)"
   ]
  },
  {
   "cell_type": "code",
   "execution_count": 35,
   "id": "917b76cf-ec3f-4604-8406-563ab1725aff",
   "metadata": {},
   "outputs": [
    {
     "data": {
      "text/plain": [
       "set"
      ]
     },
     "execution_count": 35,
     "metadata": {},
     "output_type": "execute_result"
    }
   ],
   "source": [
    "type(fav_fruit)"
   ]
  },
  {
   "cell_type": "code",
   "execution_count": 40,
   "id": "ce07ce11-74fd-4e02-8452-48e7837bf9f3",
   "metadata": {},
   "outputs": [
    {
     "name": "stdout",
     "output_type": "stream",
     "text": [
      "frozenset({'Robin', 'Ganesh', 'Thejas', 'Mohan'})\n"
     ]
    }
   ],
   "source": [
    "#Frozen sets in python are immutable objects that only support methods and operators that produce a result\n",
    "#without affecting the frozen set or sets to which they are applied.\n",
    "#it can be done with frozenset()\n",
    "Best_student=frozenset([\"Ganesh\",\"Mohan\",\"Robin\",\"Thejas\"])\n",
    "print(Best_student)"
   ]
  },
  {
   "cell_type": "code",
   "execution_count": 41,
   "id": "df08debb-7e04-4c1f-b345-cba2912665c2",
   "metadata": {},
   "outputs": [
    {
     "ename": "AttributeError",
     "evalue": "'frozenset' object has no attribute 'add'",
     "output_type": "error",
     "traceback": [
      "\u001b[1;31m---------------------------------------------------------------------------\u001b[0m",
      "\u001b[1;31mAttributeError\u001b[0m                            Traceback (most recent call last)",
      "Cell \u001b[1;32mIn[41], line 1\u001b[0m\n\u001b[1;32m----> 1\u001b[0m Best_student\u001b[38;5;241m.\u001b[39madd(\u001b[38;5;124m\"\u001b[39m\u001b[38;5;124mroshan\u001b[39m\u001b[38;5;124m\"\u001b[39m)\n",
      "\u001b[1;31mAttributeError\u001b[0m: 'frozenset' object has no attribute 'add'"
     ]
    }
   ],
   "source": [
    "Best_student.add(\"roshan\")"
   ]
  },
  {
   "cell_type": "code",
   "execution_count": 42,
   "id": "66f2e762-5ca4-4fdf-8950-29df68f4b4e4",
   "metadata": {},
   "outputs": [
    {
     "ename": "AttributeError",
     "evalue": "'frozenset' object has no attribute 'remove'",
     "output_type": "error",
     "traceback": [
      "\u001b[1;31m---------------------------------------------------------------------------\u001b[0m",
      "\u001b[1;31mAttributeError\u001b[0m                            Traceback (most recent call last)",
      "Cell \u001b[1;32mIn[42], line 1\u001b[0m\n\u001b[1;32m----> 1\u001b[0m Best_student\u001b[38;5;241m.\u001b[39mremove(\u001b[38;5;124m\"\u001b[39m\u001b[38;5;124mThejas\u001b[39m\u001b[38;5;124m\"\u001b[39m)\n",
      "\u001b[1;31mAttributeError\u001b[0m: 'frozenset' object has no attribute 'remove'"
     ]
    }
   ],
   "source": [
    "Best_student.remove(\"Thejas\")"
   ]
  },
  {
   "cell_type": "code",
   "execution_count": 43,
   "id": "ba7f6a3b-8533-49e1-8c7d-f509dcfbb3d1",
   "metadata": {},
   "outputs": [
    {
     "data": {
      "text/plain": [
       "frozenset({'Ganesh', 'Mohan', 'Robin', 'Thejas'})"
      ]
     },
     "execution_count": 43,
     "metadata": {},
     "output_type": "execute_result"
    }
   ],
   "source": [
    "#Union operation\n",
    "Best_student"
   ]
  },
  {
   "cell_type": "code",
   "execution_count": 45,
   "id": "61ed17a6-54fa-4b0b-9040-aa711abe8b26",
   "metadata": {},
   "outputs": [],
   "source": [
    "Best_stud=frozenset([\"faizan\",\"abrar\"])"
   ]
  },
  {
   "cell_type": "code",
   "execution_count": 46,
   "id": "a22941a9-f682-47cd-bfb4-7ac1dbcf3826",
   "metadata": {},
   "outputs": [
    {
     "name": "stdout",
     "output_type": "stream",
     "text": [
      "frozenset({'faizan', 'Ganesh', 'abrar', 'Mohan', 'Robin', 'Thejas'})\n"
     ]
    }
   ],
   "source": [
    "print(Best_student.union(Best_stud))"
   ]
  },
  {
   "cell_type": "code",
   "execution_count": 47,
   "id": "65976eac-c707-4078-8ea8-fa9e592328b3",
   "metadata": {},
   "outputs": [
    {
     "data": {
      "text/plain": [
       "frozenset({'Ganesh', 'Mohan', 'Robin', 'Thejas', 'abrar', 'faizan'})"
      ]
     },
     "execution_count": 47,
     "metadata": {},
     "output_type": "execute_result"
    }
   ],
   "source": [
    "Best_student|Best_stud"
   ]
  },
  {
   "cell_type": "code",
   "execution_count": 48,
   "id": "be9190f0-3af9-4a17-86e8-cca6b0a26517",
   "metadata": {},
   "outputs": [
    {
     "data": {
      "text/plain": [
       "{23, 25}"
      ]
     },
     "execution_count": 48,
     "metadata": {},
     "output_type": "execute_result"
    }
   ],
   "source": [
    "#intersection and difference operation\n",
    "marks={23,24,25,26}\n",
    "a_marks={22,23,25,27}\n",
    "marks.intersection(a_marks)"
   ]
  },
  {
   "cell_type": "code",
   "execution_count": 49,
   "id": "f9bf1297-8e76-4eb0-a812-e5567682f387",
   "metadata": {},
   "outputs": [
    {
     "data": {
      "text/plain": [
       "{24, 26}"
      ]
     },
     "execution_count": 49,
     "metadata": {},
     "output_type": "execute_result"
    }
   ],
   "source": [
    "marks.difference(a_marks)"
   ]
  },
  {
   "cell_type": "code",
   "execution_count": 57,
   "id": "a73f185f-03b9-4ec0-8959-50f6a17b1ca5",
   "metadata": {},
   "outputs": [
    {
     "data": {
      "text/plain": [
       "{'ganesh', 'mohan', 'robin', 'thejas'}"
      ]
     },
     "execution_count": 57,
     "metadata": {},
     "output_type": "execute_result"
    }
   ],
   "source": [
    "#symmetric difference\n",
    "#elements in either set but not in both\n",
    "best_stud={\"robin\",\"thejas\"}\n",
    "best_stud.update([\"ganesh\",\"mohan\"])#we can add multiple elements using the update() method\n",
    "best_stud"
   ]
  },
  {
   "cell_type": "code",
   "execution_count": 58,
   "id": "59b38d7a-251b-4de8-8d55-efd39522fc97",
   "metadata": {},
   "outputs": [],
   "source": [
    "cseviib={\"thejas\",\"ganesh\",\"mohan\"}"
   ]
  },
  {
   "cell_type": "code",
   "execution_count": 59,
   "id": "7928acfa-7859-4d44-84b9-df7f5afde90f",
   "metadata": {},
   "outputs": [
    {
     "data": {
      "text/plain": [
       "{'robin'}"
      ]
     },
     "execution_count": 59,
     "metadata": {},
     "output_type": "execute_result"
    }
   ],
   "source": [
    "best_stud^cseviib"
   ]
  },
  {
   "cell_type": "code",
   "execution_count": 60,
   "id": "fef25d7c-9482-46da-a1ac-2ccdbc854b2e",
   "metadata": {},
   "outputs": [
    {
     "data": {
      "text/plain": [
       "{'robin'}"
      ]
     },
     "execution_count": 60,
     "metadata": {},
     "output_type": "execute_result"
    }
   ],
   "source": [
    "best_stud.symmetric_difference(cseviib)"
   ]
  },
  {
   "cell_type": "code",
   "execution_count": 61,
   "id": "4e148b78-df9a-446b-abff-aba5125d490a",
   "metadata": {},
   "outputs": [],
   "source": [
    "#issubset() checks if all elements of one set are contained in another set.\n",
    "#It returns True if it is subset , otherwise it returns False\n",
    "\n",
    "a={1,2,3}\n",
    "b={1,2,3,4,5}\n",
    "is_sub=a.issubset(b)"
   ]
  },
  {
   "cell_type": "code",
   "execution_count": 62,
   "id": "55af7f64-6a7f-4207-ac79-235a72744244",
   "metadata": {},
   "outputs": [
    {
     "data": {
      "text/plain": [
       "True"
      ]
     },
     "execution_count": 62,
     "metadata": {},
     "output_type": "execute_result"
    }
   ],
   "source": [
    "is_sub"
   ]
  },
  {
   "cell_type": "code",
   "execution_count": 63,
   "id": "ce0570cd-1754-450d-a702-7c075d1a5dd8",
   "metadata": {},
   "outputs": [
    {
     "data": {
      "text/plain": [
       "False"
      ]
     },
     "execution_count": 63,
     "metadata": {},
     "output_type": "execute_result"
    }
   ],
   "source": [
    "b.issubset(a)"
   ]
  },
  {
   "cell_type": "code",
   "execution_count": 64,
   "id": "3f2cac20-0197-466e-ab51-521f924a0ff0",
   "metadata": {},
   "outputs": [
    {
     "data": {
      "text/plain": [
       "True"
      ]
     },
     "execution_count": 64,
     "metadata": {},
     "output_type": "execute_result"
    }
   ],
   "source": [
    "#issuperset() method checks if a set contains all elements of another set. It returns True \n",
    "#if it is superset otherwise it returns False\n",
    "a={1,2,3}\n",
    "b={1,2,3,4,5}\n",
    "b.issuperset(a)"
   ]
  },
  {
   "cell_type": "code",
   "execution_count": 65,
   "id": "88465773-4fef-45c1-ad37-85d396e9034b",
   "metadata": {},
   "outputs": [
    {
     "data": {
      "text/plain": [
       "False"
      ]
     },
     "execution_count": 65,
     "metadata": {},
     "output_type": "execute_result"
    }
   ],
   "source": [
    "a.issuperset(b)"
   ]
  },
  {
   "cell_type": "code",
   "execution_count": null,
   "id": "cd79bd98-632f-4ec3-be66-dbadf3072113",
   "metadata": {},
   "outputs": [],
   "source": []
  }
 ],
 "metadata": {
  "kernelspec": {
   "display_name": "Python 3 (ipykernel)",
   "language": "python",
   "name": "python3"
  },
  "language_info": {
   "codemirror_mode": {
    "name": "ipython",
    "version": 3
   },
   "file_extension": ".py",
   "mimetype": "text/x-python",
   "name": "python",
   "nbconvert_exporter": "python",
   "pygments_lexer": "ipython3",
   "version": "3.11.7"
  }
 },
 "nbformat": 4,
 "nbformat_minor": 5
}
