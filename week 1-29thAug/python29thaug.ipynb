{
  "nbformat": 4,
  "nbformat_minor": 0,
  "metadata": {
    "colab": {
      "provenance": []
    },
    "kernelspec": {
      "name": "python3",
      "display_name": "Python 3"
    },
    "language_info": {
      "name": "python"
    }
  },
  "cells": [
    {
      "cell_type": "markdown",
      "source": [
        "**Checks** **the Python version**"
      ],
      "metadata": {
        "id": "IGfWiBQEF023"
      }
    },
    {
      "cell_type": "code",
      "execution_count": 2,
      "metadata": {
        "colab": {
          "base_uri": "https://localhost:8080/"
        },
        "id": "PXhS2QFUFeZc",
        "outputId": "502d55df-6613-4091-a44a-5024d4cc68d8"
      },
      "outputs": [
        {
          "output_type": "stream",
          "name": "stdout",
          "text": [
            "Python 3.10.12\n"
          ]
        }
      ],
      "source": [
        "!python --version"
      ]
    },
    {
      "cell_type": "markdown",
      "source": [
        "**display the text using print method**"
      ],
      "metadata": {
        "id": "Fv53hG1SGFUO"
      }
    },
    {
      "cell_type": "code",
      "source": [
        "print(\"Welcome to Python Programming Lab\")"
      ],
      "metadata": {
        "colab": {
          "base_uri": "https://localhost:8080/"
        },
        "id": "6AL6Os3PFmHT",
        "outputId": "ec885409-2ae0-4383-f8c6-98ce2d30cf01"
      },
      "execution_count": 3,
      "outputs": [
        {
          "output_type": "stream",
          "name": "stdout",
          "text": [
            "Welcome to Python Programming Lab\n"
          ]
        }
      ]
    },
    {
      "cell_type": "markdown",
      "source": [
        "**Separator in print method-- Specifies how to separate the objects, if there is more than one**"
      ],
      "metadata": {
        "id": "A1uTLhPVGbYt"
      }
    },
    {
      "cell_type": "markdown",
      "source": [],
      "metadata": {
        "id": "yncBLL0dHH7m"
      }
    },
    {
      "cell_type": "code",
      "source": [
        "print(\"Hi\",\"How are you doing?\",sep=\"--\")"
      ],
      "metadata": {
        "colab": {
          "base_uri": "https://localhost:8080/"
        },
        "id": "p5xcB9X8GP0Q",
        "outputId": "38305c97-4bbd-4e9c-aa1d-2144e79c389b"
      },
      "execution_count": 4,
      "outputs": [
        {
          "output_type": "stream",
          "name": "stdout",
          "text": [
            "Hi--How are you doing?\n"
          ]
        }
      ]
    },
    {
      "cell_type": "markdown",
      "source": [
        "**end=Specify what to print at the end. Default is '\\n' (line feed)**"
      ],
      "metadata": {
        "id": "R_0zHVgsHDDw"
      }
    },
    {
      "cell_type": "code",
      "source": [
        "print(\"Hello\",end=\"\")\n",
        "print(\"world\")"
      ],
      "metadata": {
        "colab": {
          "base_uri": "https://localhost:8080/"
        },
        "id": "MUacxHYvGpbU",
        "outputId": "71cfb60f-41d9-4901-8343-57c6a18232c0"
      },
      "execution_count": 5,
      "outputs": [
        {
          "output_type": "stream",
          "name": "stdout",
          "text": [
            "Helloworld\n"
          ]
        }
      ]
    },
    {
      "cell_type": "code",
      "source": [
        "print(\"Hello\",end=\",\")\n",
        "print(\"world\")"
      ],
      "metadata": {
        "colab": {
          "base_uri": "https://localhost:8080/"
        },
        "id": "7wAJeul8HlDl",
        "outputId": "96ec257c-517a-4187-fead-348e7168eb0e"
      },
      "execution_count": 6,
      "outputs": [
        {
          "output_type": "stream",
          "name": "stdout",
          "text": [
            "Hello,world\n"
          ]
        }
      ]
    },
    {
      "cell_type": "markdown",
      "source": [
        "variables-Variables do not need to be declared with any particular type, and can even change type after they have been set.Variables are containers for storing data values.\n",
        "\n",
        "\n",
        "*   A variable can have a short name (like x and y) or a more descriptive name (age, carname, total_volume). Rules for Python variables:\n",
        "*  A variable name must start with a letter or the underscore character\n",
        "\n",
        "*   A variable name cannot start with a number\n",
        "*   A variable name can only contain alpha-numeric characters and underscores (A-z, 0-9, and _ )\n",
        "*   Variable names are case-sensitive (age, Age and AGE are three different variables)\n",
        "*   A variable name cannot be any of the Python keywords\n",
        "\n",
        "\n",
        "\n",
        "\n",
        "\n",
        "\n",
        "\n"
      ],
      "metadata": {
        "id": "Jnjpl9kPPTYD"
      }
    },
    {
      "cell_type": "code",
      "source": [
        "x = 3       # x is of type int\n",
        "x = \"python\" # x is now of type str\n",
        "print(x)"
      ],
      "metadata": {
        "colab": {
          "base_uri": "https://localhost:8080/"
        },
        "id": "xrJ3jlrbPS5L",
        "outputId": "94079319-b953-4962-f1a4-3de15187e169"
      },
      "execution_count": 11,
      "outputs": [
        {
          "output_type": "stream",
          "name": "stdout",
          "text": [
            "python\n"
          ]
        }
      ]
    },
    {
      "cell_type": "code",
      "source": [
        "myvar = \"PYTHON\"\n",
        "my_var = \"PYTHON\"\n",
        "_my_var = \"PYTHON\"\n",
        "myVar = \"PYTHON\"\n",
        "MYVAR = \"PYTHON\"\n",
        "myvar2 = \"PYTHON\""
      ],
      "metadata": {
        "id": "wakwcuIsSZ_Z"
      },
      "execution_count": 16,
      "outputs": []
    },
    {
      "cell_type": "code",
      "source": [
        "#Illegal variable names:\n",
        "\n",
        "2myvar = \"PYTHON\"\n",
        "my-var = \"PYTHON\"\n",
        "my var = \"PYTHON\""
      ],
      "metadata": {
        "colab": {
          "base_uri": "https://localhost:8080/",
          "height": 106
        },
        "id": "FTE96janSepW",
        "outputId": "10b08513-7530-497e-e466-327020e102dc"
      },
      "execution_count": 17,
      "outputs": [
        {
          "output_type": "error",
          "ename": "SyntaxError",
          "evalue": "invalid decimal literal (<ipython-input-17-aa1b75d8c15e>, line 3)",
          "traceback": [
            "\u001b[0;36m  File \u001b[0;32m\"<ipython-input-17-aa1b75d8c15e>\"\u001b[0;36m, line \u001b[0;32m3\u001b[0m\n\u001b[0;31m    2myvar = \"PYTHON\"\u001b[0m\n\u001b[0m    ^\u001b[0m\n\u001b[0;31mSyntaxError\u001b[0m\u001b[0;31m:\u001b[0m invalid decimal literal\n"
          ]
        }
      ]
    },
    {
      "cell_type": "markdown",
      "source": [
        "**Arithmetic Operations**"
      ],
      "metadata": {
        "id": "x2WKItNTHweO"
      }
    },
    {
      "cell_type": "code",
      "source": [
        "x=2\n",
        "y=3\n",
        "print(x+y)"
      ],
      "metadata": {
        "colab": {
          "base_uri": "https://localhost:8080/"
        },
        "id": "zhwgrbOlHzyM",
        "outputId": "05f26b9c-7ee8-4cf2-e1f0-985387db8128"
      },
      "execution_count": 40,
      "outputs": [
        {
          "output_type": "stream",
          "name": "stdout",
          "text": [
            "5\n"
          ]
        }
      ]
    },
    {
      "cell_type": "code",
      "source": [
        "print(x-y)"
      ],
      "metadata": {
        "colab": {
          "base_uri": "https://localhost:8080/"
        },
        "id": "7JGbNANPH50_",
        "outputId": "4cf9e4e9-05c1-42ba-bc0d-2432f35db944"
      },
      "execution_count": 41,
      "outputs": [
        {
          "output_type": "stream",
          "name": "stdout",
          "text": [
            "-1\n"
          ]
        }
      ]
    },
    {
      "cell_type": "code",
      "source": [
        "print(x/y)"
      ],
      "metadata": {
        "colab": {
          "base_uri": "https://localhost:8080/"
        },
        "id": "U5gNUW7rO9r0",
        "outputId": "3746c5ef-e314-4916-fe60-4f1dda1fa43c"
      },
      "execution_count": 42,
      "outputs": [
        {
          "output_type": "stream",
          "name": "stdout",
          "text": [
            "0.6666666666666666\n"
          ]
        }
      ]
    },
    {
      "cell_type": "code",
      "source": [
        "#divides x by y and rounds down to the nearest integer\n",
        "print(x//y)\n",
        "print(10/3)\n",
        "print(10//3)"
      ],
      "metadata": {
        "colab": {
          "base_uri": "https://localhost:8080/"
        },
        "id": "Ne1WjvgePAvt",
        "outputId": "97972820-d798-4f13-a26f-d1c3eba7a6c3"
      },
      "execution_count": 44,
      "outputs": [
        {
          "output_type": "stream",
          "name": "stdout",
          "text": [
            "0\n",
            "3.3333333333333335\n",
            "3\n"
          ]
        }
      ]
    },
    {
      "cell_type": "markdown",
      "source": [
        "**Casting:If you want to specify the data type of a variable, this can be done with casting.**"
      ],
      "metadata": {
        "id": "1sTBB05lQWi6"
      }
    },
    {
      "cell_type": "code",
      "source": [
        "x = str(3)    # x will be '3'\n",
        "y = int(3)    # y will be 3\n",
        "z = float(3)  # z will be 3.0"
      ],
      "metadata": {
        "id": "Sc6jWmoNPDPx"
      },
      "execution_count": 22,
      "outputs": []
    },
    {
      "cell_type": "code",
      "source": [
        "int(3.555)"
      ],
      "metadata": {
        "colab": {
          "base_uri": "https://localhost:8080/"
        },
        "id": "LWeMm5ezQqV5",
        "outputId": "78aea7f2-5b20-4c5b-b882-374a12878a58"
      },
      "execution_count": 45,
      "outputs": [
        {
          "output_type": "execute_result",
          "data": {
            "text/plain": [
              "3"
            ]
          },
          "metadata": {},
          "execution_count": 45
        }
      ]
    },
    {
      "cell_type": "markdown",
      "source": [
        "**Get the Type\n",
        "You can get the data type of a variable with the type() function.**"
      ],
      "metadata": {
        "id": "PsZcZ-BBQtEI"
      }
    },
    {
      "cell_type": "code",
      "source": [
        "x = 5\n",
        "y = \"AIDSB\"\n",
        "print(type(x))\n",
        "print(type(y))"
      ],
      "metadata": {
        "colab": {
          "base_uri": "https://localhost:8080/"
        },
        "id": "KP-2L_GeQrLB",
        "outputId": "318f66ed-06cf-49ed-d9ec-9177022e9e25"
      },
      "execution_count": 46,
      "outputs": [
        {
          "output_type": "stream",
          "name": "stdout",
          "text": [
            "<class 'int'>\n",
            "<class 'str'>\n"
          ]
        }
      ]
    },
    {
      "cell_type": "markdown",
      "source": [
        "**Single or Double Quotes?\n",
        "String variables can be declared either by using single or double quotes:**"
      ],
      "metadata": {
        "id": "XMS6BvwJQ-a4"
      }
    },
    {
      "cell_type": "code",
      "source": [
        "x = \"awesome\"\n",
        "# is the same as\n",
        "x = 'good'\n",
        "print(x)"
      ],
      "metadata": {
        "colab": {
          "base_uri": "https://localhost:8080/"
        },
        "id": "SYOQbgZQQ1D3",
        "outputId": "547539a5-377b-4d1d-84f6-d09fea480da7"
      },
      "execution_count": 48,
      "outputs": [
        {
          "output_type": "stream",
          "name": "stdout",
          "text": [
            "good\n"
          ]
        }
      ]
    },
    {
      "cell_type": "markdown",
      "source": [
        "**Case-Sensitive\n",
        "Variable names are case-sensitive.**"
      ],
      "metadata": {
        "id": "KYUaMvGJRRCY"
      }
    },
    {
      "cell_type": "code",
      "source": [
        "a = 4\n",
        "A = \"list\"\n",
        "#A will not overwrite a"
      ],
      "metadata": {
        "id": "2hgurtqORVqz"
      },
      "execution_count": 49,
      "outputs": []
    },
    {
      "cell_type": "markdown",
      "source": [
        "**Many Values to Multiple Variables**"
      ],
      "metadata": {
        "id": "TwHy-PLfSt0v"
      }
    },
    {
      "cell_type": "code",
      "source": [
        "x, y, z = \"PYTHON\", \"DBMS\", \"SDC-I\"\n",
        "print(x)\n",
        "print(y)\n",
        "print(z)"
      ],
      "metadata": {
        "colab": {
          "base_uri": "https://localhost:8080/"
        },
        "id": "G8RlusgjSxi5",
        "outputId": "60e4e60b-a903-4e71-9e9a-49b76e841b5b"
      },
      "execution_count": 33,
      "outputs": [
        {
          "output_type": "stream",
          "name": "stdout",
          "text": [
            "PYTHON\n",
            "DBMS\n",
            "SDC-I\n"
          ]
        }
      ]
    },
    {
      "cell_type": "markdown",
      "source": [
        "**One Value to Multiple Variables\n",
        "And you can assign the same value to multiple variables in one line:**"
      ],
      "metadata": {
        "id": "Qy15yEvFS5au"
      }
    },
    {
      "cell_type": "code",
      "source": [
        "x = y = z = \"PYTHON\"\n",
        "print(x)\n",
        "print(y)\n",
        "print(z)"
      ],
      "metadata": {
        "colab": {
          "base_uri": "https://localhost:8080/"
        },
        "id": "JcTsJr6RS48J",
        "outputId": "a5c18c80-943c-4b60-f599-4e2a32f1d729"
      },
      "execution_count": 34,
      "outputs": [
        {
          "output_type": "stream",
          "name": "stdout",
          "text": [
            "PYTHON\n",
            "PYTHON\n",
            "PYTHON\n"
          ]
        }
      ]
    },
    {
      "cell_type": "markdown",
      "source": [
        "**In the print() function, you output multiple variables, separated by a comma:**"
      ],
      "metadata": {
        "id": "9uureCDTTJg2"
      }
    },
    {
      "cell_type": "code",
      "source": [
        "x = \"Python\"\n",
        "y = \"is\"\n",
        "z = \"awesome\"\n",
        "print(x, y, z)"
      ],
      "metadata": {
        "colab": {
          "base_uri": "https://localhost:8080/"
        },
        "id": "E708B9EYTHhP",
        "outputId": "312f445b-8452-42a7-85a6-3362852aa1d7"
      },
      "execution_count": 29,
      "outputs": [
        {
          "output_type": "stream",
          "name": "stdout",
          "text": [
            "Python is awesome\n"
          ]
        }
      ]
    },
    {
      "cell_type": "markdown",
      "source": [
        "**Built-in Data Types\n",
        "In programming, data type is an important concept.Variables can store data of different types, and different types can do different things.Python has the following data types built-in by default, in these categories:**"
      ],
      "metadata": {
        "id": "mLTgk-kwXH7T"
      }
    },
    {
      "cell_type": "markdown",
      "source": [
        " **Text Type:\tstr\n",
        "Numeric Types:\tint, float, complex\n",
        "Sequence Types:\tlist, tuple, range\n",
        "Mapping Type:\tdict\n",
        "Set Types:\tset, frozenset\n",
        "Boolean Type:\tbool\n",
        "Binary Types:\tbytes, bytearray\n",
        "None Type:\tNoneType**"
      ],
      "metadata": {
        "id": "i6FsLOGbXRq2"
      }
    },
    {
      "cell_type": "markdown",
      "source": [
        "**Getting the Data Type\n",
        "You can get the data type of any object by using the type() function:**"
      ],
      "metadata": {
        "id": "gVr5PCPbXj4s"
      }
    },
    {
      "cell_type": "code",
      "source": [
        "x = 5\n",
        "print(type(x))"
      ],
      "metadata": {
        "colab": {
          "base_uri": "https://localhost:8080/"
        },
        "id": "QgKMOPVeXG1U",
        "outputId": "3405c26f-b1b0-45a6-fea8-17d7bc50f4aa"
      },
      "execution_count": 30,
      "outputs": [
        {
          "output_type": "stream",
          "name": "stdout",
          "text": [
            "<class 'int'>\n"
          ]
        }
      ]
    },
    {
      "cell_type": "markdown",
      "source": [
        "**Setting the Data Type\n",
        "In Python, the data type is set when you assign a value to a variable:**"
      ],
      "metadata": {
        "id": "A8-YhlLDXxsj"
      }
    },
    {
      "cell_type": "code",
      "source": [
        "x = \"Hello World\"\n",
        "\n",
        "#display x:\n",
        "print(x)\n",
        "\n",
        "#display the data type of x:\n",
        "print(type(x))"
      ],
      "metadata": {
        "colab": {
          "base_uri": "https://localhost:8080/"
        },
        "id": "_yHbCH-nXqhv",
        "outputId": "a3331c9f-9c60-4ca5-f2a8-dd29f6e3e7f0"
      },
      "execution_count": 31,
      "outputs": [
        {
          "output_type": "stream",
          "name": "stdout",
          "text": [
            "Hello World\n",
            "<class 'str'>\n"
          ]
        }
      ]
    },
    {
      "cell_type": "code",
      "source": [
        "x = 20\n",
        "\n",
        "#display x:\n",
        "print(x)\n",
        "\n",
        "#display the data type of x:\n",
        "print(type(x))"
      ],
      "metadata": {
        "colab": {
          "base_uri": "https://localhost:8080/"
        },
        "id": "t_em9CF4Yd8C",
        "outputId": "dcdaeff8-88d1-4b4c-df2f-acede94f42da"
      },
      "execution_count": 32,
      "outputs": [
        {
          "output_type": "stream",
          "name": "stdout",
          "text": [
            "20\n",
            "<class 'int'>\n"
          ]
        }
      ]
    },
    {
      "cell_type": "code",
      "source": [],
      "metadata": {
        "id": "hG2qPjb6lCr1"
      },
      "execution_count": null,
      "outputs": []
    }
  ]
}